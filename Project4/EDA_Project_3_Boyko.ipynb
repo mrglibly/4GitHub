{
 "cells": [
  {
   "cell_type": "code",
   "execution_count": 1,
   "metadata": {},
   "outputs": [],
   "source": [
    "# V.6_12- добавил приpнак city \n",
    "# use all features we have\n",
    "# добавил анализ тональности текста nltk\n",
    "# добавил анализ тональности текста nltk jn negative_review\n",
    "\n",
    "import pandas as pd\n",
    "import numpy as np \n",
    "from scipy import stats\n",
    "import seaborn as sns\n",
    "import matplotlib as plt\n",
    "from geopy.geocoders import Nominatim\n",
    "from geopy.extra.rate_limiter import RateLimiter\n"
   ]
  },
  {
   "cell_type": "markdown",
   "metadata": {},
   "source": [
    "## 1.Считываем данные"
   ]
  },
  {
   "cell_type": "code",
   "execution_count": 2,
   "metadata": {},
   "outputs": [],
   "source": [
    "hotels = pd.read_csv('hotels.csv')"
   ]
  },
  {
   "cell_type": "markdown",
   "metadata": {},
   "source": [
    "### Проверка на задублированный данные"
   ]
  },
  {
   "cell_type": "code",
   "execution_count": 3,
   "metadata": {},
   "outputs": [
    {
     "data": {
      "text/plain": [
       "307"
      ]
     },
     "execution_count": 3,
     "metadata": {},
     "output_type": "execute_result"
    }
   ],
   "source": [
    "hotels.duplicated().sum()"
   ]
  },
  {
   "cell_type": "markdown",
   "metadata": {},
   "source": [
    "### Избавляемся от дублей"
   ]
  },
  {
   "cell_type": "code",
   "execution_count": 4,
   "metadata": {},
   "outputs": [],
   "source": [
    "hotels = hotels.drop_duplicates()"
   ]
  },
  {
   "cell_type": "markdown",
   "metadata": {},
   "source": [
    "### Проверка на пропущенные значения"
   ]
  },
  {
   "cell_type": "code",
   "execution_count": 5,
   "metadata": {},
   "outputs": [
    {
     "data": {
      "text/plain": [
       "(2448,)"
      ]
     },
     "execution_count": 5,
     "metadata": {},
     "output_type": "execute_result"
    }
   ],
   "source": [
    "mask_lat = hotels['lat'].isnull()\n",
    "mask_lng = hotels['lng'].isnull()\n",
    "hotels[mask_lat | mask_lng]['hotel_address'].shape"
   ]
  },
  {
   "cell_type": "code",
   "execution_count": 6,
   "metadata": {},
   "outputs": [],
   "source": [
    "# Заполним недостающие значения простым способом...\n",
    "hotels['lat'] = hotels['lat'].fillna(0)\n",
    "hotels['lng'] = hotels['lat'].fillna(0)"
   ]
  },
  {
   "cell_type": "markdown",
   "metadata": {},
   "source": [
    "## 2.Создаем новые признаки"
   ]
  },
  {
   "cell_type": "markdown",
   "metadata": {},
   "source": [
    "### Cоздадим признак 'city' гостиницы"
   ]
  },
  {
   "cell_type": "code",
   "execution_count": 7,
   "metadata": {},
   "outputs": [],
   "source": [
    "# создадим признак 'country' гостиницы при помощи функции\n",
    "def city_finder(arg):\n",
    "    temp = arg.split(' ')[::-1][1]\n",
    "    if temp =='United':\n",
    "        return arg.split(' ')[::-1][4]\n",
    "    else:\n",
    "        return temp\n",
    "\n",
    "hotels['city'] = hotels['hotel_address'].apply(city_finder)"
   ]
  },
  {
   "cell_type": "markdown",
   "metadata": {},
   "source": [
    "### Выделим признак Времени Года - 'season'"
   ]
  },
  {
   "cell_type": "code",
   "execution_count": 8,
   "metadata": {},
   "outputs": [],
   "source": [
    "# определим месяц отзыва\n",
    "hotels['review_date'] = pd.to_datetime(hotels['review_date'])\n",
    "hotels['month'] = hotels['review_date'].dt.month"
   ]
  },
  {
   "cell_type": "code",
   "execution_count": 9,
   "metadata": {},
   "outputs": [],
   "source": [
    "def f_season(arg):\n",
    "    if arg in [12,1,2]:\n",
    "            return 1\n",
    "    elif arg in [3,4,5]:\n",
    "            return 2\n",
    "    elif arg in [6,7,8]:\n",
    "            return 3\n",
    "    elif arg in [9,10,11]:\n",
    "        return 4\n",
    "    \n",
    "hotels['season'] = hotels['month'].apply(f_season)"
   ]
  },
  {
   "cell_type": "markdown",
   "metadata": {},
   "source": [
    "### Преобразуем 'days since review' в числовое значение"
   ]
  },
  {
   "cell_type": "code",
   "execution_count": 10,
   "metadata": {},
   "outputs": [],
   "source": [
    "import re\n",
    "regex1='^\\d{1,3}\\s'\n",
    "hotels['days_since_review'] = hotels['days_since_review'].str.findall(regex1).str.get(0).astype('int')"
   ]
  },
  {
   "cell_type": "markdown",
   "metadata": {},
   "source": [
    "### Cоздаем признак 'nights_stayed'"
   ]
  },
  {
   "cell_type": "code",
   "execution_count": 11,
   "metadata": {},
   "outputs": [],
   "source": [
    "regex='\\s\\d{1,2}\\s'\n",
    "hotels['nights_stayed'] = hotels['tags'].str.findall(regex).str.get(0)\n",
    "hotels['nights_stayed'] = hotels['nights_stayed'].fillna(0)\n",
    "hotels['nights_stayed'] = hotels['nights_stayed'].astype('int')"
   ]
  },
  {
   "cell_type": "markdown",
   "metadata": {},
   "source": [
    "### Сoздадим новый признак - Sum of Tags Frequesncy - 'Sum_Tags_freq'\n"
   ]
  },
  {
   "cell_type": "code",
   "execution_count": 12,
   "metadata": {},
   "outputs": [],
   "source": [
    "# создадим словарь частотности каждого тега\n",
    "tags_dict={}\n",
    "\n",
    "for elem in hotels['tags']:\n",
    "    elem = elem.split(', ')\n",
    "    for i in elem:\n",
    "        a = i.replace(']','')  # очищаем нашу строку\n",
    "        a = a.replace('[','')\n",
    "        a = a.replace(\"'\",'')\n",
    "        if a not in tags_dict.keys():\n",
    "            tags_dict[a]=1\n",
    "        else:\n",
    "            tags_dict[a]+=1\n"
   ]
  },
  {
   "cell_type": "code",
   "execution_count": 13,
   "metadata": {},
   "outputs": [],
   "source": [
    "# напищем функцию, которая считает сумму баллов частотности всех тегов в одном отзыве\n",
    " \n",
    "def tags_freq(arg):\n",
    "    arg = arg.split(', ')\n",
    "    for elem in arg:\n",
    "        tlst=[]\n",
    "        for i in arg:\n",
    "            a = i.replace(']','')\n",
    "            a = a.replace('[','')\n",
    "            a = a.replace(\"'\",'')\n",
    "            tlst.append(tags_dict[a])\n",
    "    return(sum(tlst))\n",
    "\n",
    "hotels['sum_tags_freq'] = hotels['tags'].apply(tags_freq)"
   ]
  },
  {
   "cell_type": "markdown",
   "metadata": {},
   "source": [
    "### Попробуем проанализировать тональность текста при помощи nltk"
   ]
  },
  {
   "cell_type": "code",
   "execution_count": 14,
   "metadata": {},
   "outputs": [],
   "source": [
    "import nltk\n",
    "from nltk.sentiment.vader import SentimentIntensityAnalyzer\n",
    "\n",
    "\n",
    "# nltk.downloader.download('vader_lexicon')\n",
    "sent_analyzer = SentimentIntensityAnalyzer()\n",
    "\n",
    "def f_sent(arg):\n",
    "    result = sent_analyzer.polarity_scores(arg)\n",
    "    return result['compound']\n",
    "\n",
    "hotels['sent_grade'] = hotels['positive_review'].apply(f_sent)\n",
    "\n",
    "# добавим такой признак по negative_review\n",
    "hotels['sent_grade_n'] = hotels['negative_review'].apply(f_sent)"
   ]
  },
  {
   "cell_type": "markdown",
   "metadata": {},
   "source": [
    "## 3.Преобразование признаков"
   ]
  },
  {
   "cell_type": "code",
   "execution_count": 15,
   "metadata": {},
   "outputs": [],
   "source": [
    "# Прокодируем поле 'country' бинарным кодированием...\n",
    "import category_encoders as ce # импорт для работы с кодировщиком\n",
    "\n",
    "bin_encoder = ce.BinaryEncoder(cols=['city']) # указываем столбец для кодирования\n",
    "type_bin = bin_encoder.fit_transform(hotels['city'])\n",
    "hotels = pd.concat([hotels, type_bin], axis=1)\n"
   ]
  },
  {
   "cell_type": "code",
   "execution_count": 16,
   "metadata": {},
   "outputs": [],
   "source": [
    "# Прокодируем поле 'reviewer_nationality' бинарным кодированием...\n",
    "\n",
    "bin_encoder = ce.BinaryEncoder(cols=['reviewer_nationality']) # указываем столбец для кодирования\n",
    "type_bin = bin_encoder.fit_transform(hotels['reviewer_nationality'])\n",
    "hotels = pd.concat([hotels, type_bin], axis=1)"
   ]
  },
  {
   "cell_type": "code",
   "execution_count": 17,
   "metadata": {},
   "outputs": [],
   "source": [
    "# убираем ненужные колонки\n",
    "columns_to_drop = ['hotel_address','review_date', 'hotel_name', 'negative_review','positive_review','tags','city','reviewer_nationality',]\n",
    "hotels.drop(columns_to_drop,axis=1,inplace=True)"
   ]
  },
  {
   "cell_type": "markdown",
   "metadata": {},
   "source": [
    "### Нормализуем все признаки в отдельном дата фрейме... "
   ]
  },
  {
   "cell_type": "code",
   "execution_count": 18,
   "metadata": {},
   "outputs": [],
   "source": [
    "# Применим MinMAxScaler (так как онпредставляет данные в положительном диапазоне...)\n",
    "from sklearn import preprocessing\n",
    "\n",
    "col_names = list(hotels.columns)\n",
    "\n",
    "# инициализируем нормализатор RobustScaler\n",
    "r_scaler = preprocessing.MinMaxScaler()\n",
    "\n",
    "# кодируем исходный датасет\n",
    "hotels_r = r_scaler.fit_transform(hotels)\n",
    "\n",
    "# Преобразуем промежуточный датасет в полноценный датафрейм для визуализации\n",
    "hotels_r = pd.DataFrame(hotels_r, columns=col_names)\n",
    "\n"
   ]
  },
  {
   "cell_type": "markdown",
   "metadata": {},
   "source": [
    "## 4.Отбор признаков"
   ]
  },
  {
   "cell_type": "markdown",
   "metadata": {},
   "source": [
    "### Оценка значимости каждого признака"
   ]
  },
  {
   "cell_type": "code",
   "execution_count": 19,
   "metadata": {},
   "outputs": [],
   "source": [
    "# Для начала разделим признаки по типу, перечислим их\n",
    "# непрерывные признаки\n",
    "num_cols = [\n",
    "    'additional_number_of_scoring',\n",
    "    'review_total_negative_word_counts',\n",
    "    'total_number_of_reviews',\n",
    "    'review_total_positive_word_counts',\n",
    "    'total_number_of_reviews_reviewer_has_given'\n",
    "    ]\n",
    "\n",
    "# категориальные признаки\n",
    "cat_cols = ['average_score',\n",
    "            'days_since_review',\n",
    "            'lat',\n",
    "            'lng',\n",
    "            'month',\n",
    "            'season',\n",
    "            'nights_stayed',\n",
    "            'sum_tags_freq',\n",
    "            'sent_grade',\n",
    "            'sent_grade_n',\n",
    "            'city_0',\n",
    "            'city_1',\n",
    "            'city_2',\n",
    "            'reviewer_nationality_0',\n",
    "            'reviewer_nationality_1',\n",
    "            'reviewer_nationality_2',\n",
    "            'reviewer_nationality_3',\n",
    "            'reviewer_nationality_4',\n",
    "            'reviewer_nationality_5',\n",
    "            'reviewer_nationality_6',\n",
    "            'reviewer_nationality_7']"
   ]
  },
  {
   "cell_type": "code",
   "execution_count": 20,
   "metadata": {},
   "outputs": [],
   "source": [
    "# Разбиваем датафрейм на части, необходимые для обучения и тестирования модели  \n",
    "# Х - данные с информацией об отелях, у - целевая переменная (рейтинги отелей)  \n",
    "X = hotels_r.drop(['reviewer_score'], axis = 1)  \n",
    "y = hotels_r['reviewer_score'] "
   ]
  },
  {
   "cell_type": "code",
   "execution_count": 21,
   "metadata": {},
   "outputs": [
    {
     "data": {
      "text/plain": [
       "<Axes: >"
      ]
     },
     "execution_count": 21,
     "metadata": {},
     "output_type": "execute_result"
    },
    {
     "data": {
      "image/png": "[encoded data removed]",
      "text/plain": [
       "<Figure size 640x480 with 1 Axes>"
      ]
     },
     "metadata": {},
     "output_type": "display_data"
    }
   ],
   "source": [
    "# Проверим на знаимость Категориальные признаки...\n",
    "\n",
    "y=y.astype('int')\n",
    "...\n",
    "from sklearn.feature_selection import chi2 # хи-квадрат\n",
    "\n",
    "imp_cat = pd.Series(chi2(X[cat_cols], y)[0], index=cat_cols)\n",
    "imp_cat.sort_values(inplace = True)\n",
    "imp_cat.plot(kind = 'barh')"
   ]
  },
  {
   "cell_type": "markdown",
   "metadata": {},
   "source": [
    "Убираем 4 самых слабых признака..."
   ]
  },
  {
   "cell_type": "code",
   "execution_count": 22,
   "metadata": {},
   "outputs": [],
   "source": [
    "hotels = hotels.drop(['reviewer_nationality_7',\n",
    "                          'lng',\n",
    "                          'nights_stayed',\n",
    "                          'reviewer_nationality_0',\n",
    "                          ], axis=1)"
   ]
  },
  {
   "cell_type": "code",
   "execution_count": 23,
   "metadata": {},
   "outputs": [
    {
     "data": {
      "text/plain": [
       "<Axes: >"
      ]
     },
     "execution_count": 23,
     "metadata": {},
     "output_type": "execute_result"
    },
    {
     "data": {
      "image/png": "[encoded data removed]",
      "text/plain": [
       "<Figure size 640x480 with 1 Axes>"
      ]
     },
     "metadata": {},
     "output_type": "display_data"
    }
   ],
   "source": [
    "# Проверим на знаимость Числовые признаки...\n",
    "\n",
    "from sklearn.feature_selection import f_classif # anova\n",
    "\n",
    "imp_num = pd.Series(f_classif(X[num_cols], y)[0], index = num_cols)\n",
    "imp_num.sort_values(inplace = True)\n",
    "imp_num.plot(kind = 'barh')"
   ]
  },
  {
   "cell_type": "markdown",
   "metadata": {},
   "source": [
    "Убираем 1 самый слабый признак"
   ]
  },
  {
   "cell_type": "code",
   "execution_count": 24,
   "metadata": {},
   "outputs": [],
   "source": [
    "hotels = hotels.drop(['additional_number_of_scoring'], axis=1)"
   ]
  },
  {
   "cell_type": "markdown",
   "metadata": {},
   "source": [
    "## Тестирование модели"
   ]
  },
  {
   "cell_type": "code",
   "execution_count": 25,
   "metadata": {},
   "outputs": [],
   "source": [
    "# Разбиваем тестируемый (оригинальный) датафрейм на части, необходимые для обучения и тестирования модели  \n",
    "# Х - данные с информацией об отелях, у - целевая переменная (рейтинги отелей)  \n",
    "X = hotels.drop(['reviewer_score'], axis = 1)  \n",
    "y = hotels['reviewer_score'] "
   ]
  },
  {
   "cell_type": "code",
   "execution_count": 26,
   "metadata": {},
   "outputs": [],
   "source": [
    "# Загружаем специальный инструмент для разбивки:  \n",
    "from sklearn.model_selection import train_test_split  "
   ]
  },
  {
   "cell_type": "code",
   "execution_count": 27,
   "metadata": {},
   "outputs": [],
   "source": [
    "# Наборы данных с меткой \"train\" будут использоваться для обучения модели, \"test\" - для тестирования.  \n",
    "# Для тестирования мы будем использовать 25% от исходного датасета.  \n",
    "X_train, X_test, y_train, y_test = train_test_split(X, y, test_size=0.25, random_state=42)"
   ]
  },
  {
   "cell_type": "code",
   "execution_count": 28,
   "metadata": {},
   "outputs": [],
   "source": [
    "# Импортируем необходимые библиотеки:  \n",
    "from sklearn.ensemble import RandomForestRegressor # инструмент для создания и обучения модели  \n",
    "from sklearn import metrics # инструменты для оценки точности модели  \n",
    "  \n",
    "# Создаём модель  \n",
    "regr = RandomForestRegressor(n_estimators=100)  \n",
    "      \n",
    "# Обучаем модель на тестовом наборе данных  \n",
    "regr.fit(X_train, y_train)  \n",
    "      \n",
    "# Используем обученную модель для предсказания рейтинга отелей в тестовой выборке.  \n",
    "# Предсказанные значения записываем в переменную y_pred  \n",
    "y_pred = regr.predict(X_test)  \n"
   ]
  },
  {
   "cell_type": "code",
   "execution_count": 29,
   "metadata": {},
   "outputs": [
    {
     "name": "stdout",
     "output_type": "stream",
     "text": [
      "MAPE: 0.1256951981858791\n"
     ]
    }
   ],
   "source": [
    "# Сравниваем предсказанные значения (y_pred) с реальными (y_test), и смотрим насколько они отличаются  \n",
    "# Метрика называется Mean Absolute Percentage Error (MAPE) и показывает среднюю абсолютную процентную ошибку предсказанных значений от фактических.  \n",
    "print('MAPE:', metrics.mean_absolute_percentage_error(y_test, y_pred))"
   ]
  },
  {
   "cell_type": "markdown",
   "metadata": {},
   "source": [
    "Небольшой бонус:\n"
   ]
  },
  {
   "cell_type": "code",
   "execution_count": 30,
   "metadata": {},
   "outputs": [
    {
     "data": {
      "text/plain": [
       "1.256951981858791"
      ]
     },
     "execution_count": 30,
     "metadata": {},
     "output_type": "execute_result"
    }
   ],
   "source": [
    "def MAPE(y_true, y_pred): \n",
    "    y_true, y_pred = np.array(y_true), np.array(y_pred)\n",
    "    return np.mean(np.abs((y_true - y_pred) / y_true))*10\n",
    "\n",
    "MAPE(y_test, y_pred)"
   ]
  }
 ],
 "metadata": {
  "kernelspec": {
   "display_name": "Python 3",
   "language": "python",
   "name": "python3"
  },
  "language_info": {
   "codemirror_mode": {
    "name": "ipython",
    "version": 3
   },
   "file_extension": ".py",
   "mimetype": "text/x-python",
   "name": "python",
   "nbconvert_exporter": "python",
   "pygments_lexer": "ipython3",
   "version": "3.9.10"
  }
 },
 "nbformat": 4,
 "nbformat_minor": 2
}
