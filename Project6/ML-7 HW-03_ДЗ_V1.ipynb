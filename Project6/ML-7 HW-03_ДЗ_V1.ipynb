{
 "cells": [
  {
   "cell_type": "markdown",
   "metadata": {},
   "source": [
    "# ML-7. Домашнее задание (HW-3)\n",
    "\n",
    "Прогнозирование биологического ответа"
   ]
  },
  {
   "cell_type": "code",
   "execution_count": 10,
   "metadata": {},
   "outputs": [],
   "source": [
    "#импорт библиотек\n",
    "import numpy as np #для матричных вычислений\n",
    "import pandas as pd #для анализа и предобработки данных\n",
    "#import matplotlib.pyplot as plt #для визуализации\n",
    "import seaborn as sns #для визуализации\n",
    "\n",
    "from sklearn import linear_model #линейные моделиё\n",
    "from sklearn import tree #деревья решений\n",
    "from sklearn import ensemble #ансамбли\n",
    "from sklearn import metrics #метрики\n",
    "from sklearn import preprocessing #предобработка\n",
    "from sklearn.model_selection import train_test_split #сплитование выборки\n",
    "from sklearn.model_selection import learning_curve\n",
    "import time\n",
    "\n",
    "%matplotlib inline\n",
    "#plt.style.use('seaborn')"
   ]
  },
  {
   "cell_type": "code",
   "execution_count": 11,
   "metadata": {},
   "outputs": [],
   "source": [
    "import warnings # для игнорирования предупреждений\n",
    "# Игнорируем предупреждения\n",
    "warnings.filterwarnings('ignore')\n",
    "\n"
   ]
  },
  {
   "cell_type": "code",
   "execution_count": 12,
   "metadata": {},
   "outputs": [],
   "source": [
    "# создадим пустой словарь складывать результаты для финального обзора...\n",
    "res_dict={}"
   ]
  },
  {
   "cell_type": "markdown",
   "metadata": {},
   "source": [
    "## Читаем и разделяем данные"
   ]
  },
  {
   "cell_type": "code",
   "execution_count": 13,
   "metadata": {},
   "outputs": [],
   "source": [
    "# прочитаем данные...\n",
    "data = pd.read_csv('_train_sem09.csv')\n",
    "\n",
    "# Предварительная обработка не требуется, данные уже закодированы и нормализованы.\n",
    "# В качестве метрики будем использовать F1-score."
   ]
  },
  {
   "cell_type": "code",
   "execution_count": 14,
   "metadata": {},
   "outputs": [],
   "source": [
    "# Отделим биологический твет (как целевой признак)\n",
    "y = data['Activity']\n",
    "\n",
    "# ...и определим массив экспериметальных данных\n",
    "x = data.drop(['Activity'],axis=1)"
   ]
  },
  {
   "cell_type": "code",
   "execution_count": 15,
   "metadata": {},
   "outputs": [
    {
     "data": {
      "text/plain": [
       "Activity\n",
       "1    0.542255\n",
       "0    0.457745\n",
       "Name: proportion, dtype: float64"
      ]
     },
     "metadata": {},
     "output_type": "display_data"
    },
    {
     "data": {
      "image/png": "[encoded data removed]",
      "text/plain": [
       "<Figure size 640x480 with 1 Axes>"
      ]
     },
     "metadata": {},
     "output_type": "display_data"
    }
   ],
   "source": [
    "# проверим соотошение классов в целевом признаке\n",
    "display(data['Activity'].value_counts(True))\n",
    "sns.countplot(data=data, x='Activity');\n"
   ]
  },
  {
   "cell_type": "code",
   "execution_count": 16,
   "metadata": {},
   "outputs": [],
   "source": [
    "# Разделим массив на Тренировочный и Тестовый\n",
    "X_train, X_test, y_train, y_test = train_test_split(x,y,test_size=0.2)"
   ]
  },
  {
   "cell_type": "markdown",
   "metadata": {},
   "source": [
    "## Строим базовые 2 модели - Логистическую регрессию и Случайный Лес"
   ]
  },
  {
   "cell_type": "code",
   "execution_count": 17,
   "metadata": {},
   "outputs": [],
   "source": [
    "# Определим функцию, которя будет измерять сремя исполнения кода...\n",
    "def dura(start,end):\n",
    "    return round(end-start,5)"
   ]
  },
  {
   "cell_type": "code",
   "execution_count": 26,
   "metadata": {},
   "outputs": [
    {
     "name": "stdout",
     "output_type": "stream",
     "text": [
      "Метрика F1 для Логистической регресии = 0.7663\n",
      "CPU times: total: 516 ms\n",
      "Wall time: 304 ms\n"
     ]
    }
   ],
   "source": [
    "# Обучаем Логистическую регрессию\n",
    "start = time.time()\n",
    "lr = linear_model.LogisticRegression(max_iter=50, random_state=42)\n",
    "lr.fit(X_train, y_train)\n",
    "y_pred = lr.predict(X_test)\n",
    "\n",
    "# рассчитаем метрику F1-score\n",
    "score = metrics.f1_score(y_test, y_pred)\n",
    "\n",
    "end = time.time()\n",
    "# запишем результат в словарь:\n",
    "res_dict['LogRegr_BaseLine'] = [round(score,4), dura(start,end)]\n",
    "\n",
    "print('Метрика F1 для Логистической регресии = {}'.format(round(score,4)))"
   ]
  },
  {
   "cell_type": "code",
   "execution_count": 24,
   "metadata": {},
   "outputs": [
    {
     "name": "stdout",
     "output_type": "stream",
     "text": [
      "Метрика F1 для \"Случайного леса\" = 0.8145\n"
     ]
    }
   ],
   "source": [
    "# Обучаем Случайный лес\n",
    "start = time.time()\n",
    "\n",
    "rf = ensemble.RandomForestClassifier(random_state=42)\n",
    "rf.fit(X_train, y_train)\n",
    "y_pred = rf.predict(X_test)\n",
    "\n",
    "# рассчитаем метрику F1-score\n",
    "score = metrics.f1_score(y_test, y_pred)\n",
    "\n",
    "end = time.time()\n",
    "\n",
    "# запишем результат в словарь:\n",
    "res_dict['RandForest_BaseLine'] = [round(score,4),dura(start,end)]\n",
    "\n",
    "print('Метрика F1 для \"Случайного леса\" = {}'.format(round(score,4)))"
   ]
  },
  {
   "cell_type": "markdown",
   "metadata": {},
   "source": [
    "Кривая обучения (learning curve) — это график зависимости некоторой метрики на обучающем (валидационном) наборе данных от количества объектов, которые участвуют в обучении модели. Будем прибегать к ней ниже в коде..."
   ]
  },
  {
   "cell_type": "code",
   "execution_count": 27,
   "metadata": {},
   "outputs": [],
   "source": [
    "# Функция из курса, рекомендованная к использованию для визуализации кривых обучения...\n",
    "\n",
    "def plot_learning_curve(model, X, y, cv, scoring=\"f1\", ax=None, title=\"\"):\n",
    "    # Вычисляем координаты для построения кривой обучения\n",
    "    train_sizes, train_scores, valid_scores = learning_curve(\n",
    "        estimator=model,  # модель\n",
    "        X=X,  # матрица наблюдений X\n",
    "        y=y,  # вектор ответов y\n",
    "        cv=cv,  # кросс-валидатор\n",
    "        scoring=scoring,  # метрика\n",
    "    )\n",
    "    # Вычисляем среднее значение по фолдам для каждого набора данных\n",
    "    train_scores_mean = np.mean(train_scores, axis=1)\n",
    "    valid_scores_mean = np.mean(valid_scores, axis=1)\n",
    "    # Если координатной плоскости не было передано, создаём новую\n",
    "    if ax is None:\n",
    "        fig, ax = plt.subplots(figsize=(10, 4))  # фигура + координатная плоскость\n",
    "    # Строим кривую обучения по метрикам на тренировочных фолдах\n",
    "    ax.plot(train_sizes, train_scores_mean, label=\"Train\")\n",
    "    # Строим кривую обучения по метрикам на валидационных фолдах\n",
    "    ax.plot(train_sizes, valid_scores_mean, label=\"Valid\")\n",
    "    # Даём название графику и подписи осям\n",
    "    ax.set_title(\"Learning curve: {}\".format(title))\n",
    "    ax.set_xlabel(\"Train data size\")\n",
    "    ax.set_ylabel(\"Score\")\n",
    "    # Устанавливаем отметки по оси абсцисс\n",
    "    ax.xaxis.set_ticks(train_sizes)\n",
    "    # Устанавливаем диапазон оси ординат\n",
    "    ax.set_ylim(0, 1)\n",
    "    # Отображаем легенду\n",
    "    ax.legend()"
   ]
  },
  {
   "cell_type": "markdown",
   "metadata": {},
   "source": [
    "## Подбираем гиперпараметры для Логистической регрессии: "
   ]
  },
  {
   "cell_type": "markdown",
   "metadata": {},
   "source": [
    "### LogRegr + GridSearchCV"
   ]
  },
  {
   "cell_type": "code",
   "execution_count": 28,
   "metadata": {},
   "outputs": [],
   "source": [
    "# сначала импорт...\n",
    "from sklearn.model_selection import GridSearchCV\n",
    "from sklearn.model_selection import StratifiedKFold\n",
    "\n",
    "start = time.time()\n",
    "\n",
    "# Определяем сетку гиперпараметров:\n",
    "param_grid = [\n",
    "              {'penalty': ['l2', 'none'] , # тип регуляризации\n",
    "              'solver': ['lbfgs', 'sag'], # алгоритм оптимизации\n",
    "               'C': [0.01, 0.1, 0.3, 0.5, 0.7, 0.9, 1]} # уровень силы регуляризации\n",
    "              ]\n",
    "\n",
    "# создаем объект класса GridSearchCV...\n",
    "grid_search = GridSearchCV(\n",
    "    estimator=lr,\n",
    "    param_grid=param_grid, \n",
    "    cv=5, \n",
    "    n_jobs = -1,\n",
    "    verbose=False\n",
    ")\n",
    "#Создаём объект кросс-валидатора k-fold со стратификацией\n",
    "skf = StratifiedKFold(n_splits=5)\n",
    "\n",
    "# %time - замеряет время выполнения\n",
    "# %time grid_search.fit(X_train, y_train)\n",
    "grid_search.fit(X_train, y_train)\n",
    "y_test_pred = grid_search.predict(X_test)\n",
    "\n",
    "end = time.time()\n",
    "\n",
    "print('Метрика F1 для Логистической регресии и GridSearch: {:.4f}'.format(metrics.f1_score(y_test, y_test_pred)))"
   ]
  },
  {
   "cell_type": "code",
   "execution_count": 30,
   "metadata": {},
   "outputs": [],
   "source": [
    "# запишем результат в словарь:\n",
    "res_dict['LogRegr_GridSearch'] = [round(metrics.f1_score(y_test, y_test_pred),4),dura(start,end)]"
   ]
  },
  {
   "cell_type": "code",
   "execution_count": null,
   "metadata": {},
   "outputs": [],
   "source": [
    "# построим Кривую обучения (Learning curve)\n",
    "# plot_learning_curve(grid_search, X_train, y_train,cv=skf, scoring=\"f1\", ax=None, title=\"\")"
   ]
  },
  {
   "cell_type": "markdown",
   "metadata": {},
   "source": [
    "### LogRegr + RANDOMIZEDSEARCHCV "
   ]
  },
  {
   "cell_type": "code",
   "execution_count": 33,
   "metadata": {},
   "outputs": [
    {
     "name": "stdout",
     "output_type": "stream",
     "text": [
      "Метрика F1 для Логистической регресии и RANDOMIZEDSEARCHCV: 0.7752\n"
     ]
    }
   ],
   "source": [
    "# импортируем библиотеку...\n",
    "from sklearn.model_selection import RandomizedSearchCV\n",
    "\n",
    "start = time.time()\n",
    "\n",
    "param_set = {'penalty': ['l2', 'none'] ,\n",
    "              'solver': ['lbfgs', 'sag'],\n",
    "               'C': list(np.linspace(0.01, 1, 10, dtype=float))}\n",
    "            \n",
    "random_search = RandomizedSearchCV(\n",
    "    estimator = lr,  #inear_model.LogisticRegression(random_state=42, max_iter=1000),\n",
    "    param_distributions=param_set, \n",
    "    cv=5, \n",
    "    n_iter = 50, \n",
    "    n_jobs = -1\n",
    ")\n",
    "\n",
    "random_search.fit(X_train, y_train) \n",
    "y_test_pred = random_search.predict(X_test)\n",
    "\n",
    "end = time.time()\n",
    "\n",
    "print('Метрика F1 для Логистической регресии и RANDOMIZEDSEARCHCV: {:.4f}'.format(metrics.f1_score(y_test, y_test_pred)))"
   ]
  },
  {
   "cell_type": "code",
   "execution_count": 36,
   "metadata": {},
   "outputs": [],
   "source": [
    "# запишем результат в словарь:\n",
    "res_dict['LogRegr_RandSearch'] = [round(metrics.f1_score(y_test, y_test_pred),4),dura(start,end)]"
   ]
  },
  {
   "cell_type": "markdown",
   "metadata": {},
   "source": [
    "### LogRegr + HYPEROPT"
   ]
  },
  {
   "cell_type": "code",
   "execution_count": 39,
   "metadata": {},
   "outputs": [
    {
     "name": "stdout",
     "output_type": "stream",
     "text": [
      "Версия Hyperopt : 0.2.7\n"
     ]
    }
   ],
   "source": [
    "# делаем импорт и выведем версию библиотеки\n",
    "# from sklearn.model_selection import cross_val_score\n",
    "import hyperopt\n",
    "from hyperopt import hp, fmin, tpe, Trials\n",
    "# fmin - основная функция, она будет минимизировать наш функционал\n",
    "# tpe - алгоритм оптимизации\n",
    "# hp - включает набор методов для объявления пространства поиска гиперпараметров\n",
    "# trails - используется для логирования результатов\n",
    "\n",
    "print(\"Версия Hyperopt : {}\".format(hyperopt.__version__))"
   ]
  },
  {
   "cell_type": "code",
   "execution_count": 40,
   "metadata": {},
   "outputs": [
    {
     "name": "stdout",
     "output_type": "stream",
     "text": [
      "  0%|          | 0/50 [00:00<?, ?trial/s, best loss=?]"
     ]
    },
    {
     "name": "stdout",
     "output_type": "stream",
     "text": [
      "100%|██████████| 50/50 [01:01<00:00,  1.24s/trial, best loss: -0.9063647490820074]\n",
      "Метрика F1 для Логистической регресии и HYPEROPT: 0.7734\n"
     ]
    }
   ],
   "source": [
    "# зададим пространство поиска гиперпараметров\n",
    "start = time.time()\n",
    "\n",
    "pen = ['l2', 'none']\n",
    "sol = ['lbfgs', 'sag']\n",
    "\n",
    "space = {'penalty':hp.choice('penalty', pen),\n",
    "         'solver':hp.choice('solver',sol),\n",
    "         'C':hp.uniform('C', 0.01, 1)\n",
    "         }\n",
    "# зафксируем random_state\n",
    "random_state = 42\n",
    "\n",
    "def hyperopt_lr(params, X=X_train, y=y_train, random_state=random_state):\n",
    "    # функция получает комбинацию гиперпараметров в \"params\"\n",
    "    params = {'penalty': params['penalty'], \n",
    "              'solver': params['solver'], \n",
    "             'C': float(params['C'])\n",
    "              }\n",
    "  \n",
    "    # используем эту комбинацию для построения модели\n",
    "    model = linear_model.LogisticRegression(**params, random_state=random_state)\n",
    "\n",
    "    # обучаем модель\n",
    "    model.fit(X, y)\n",
    "    score = metrics.f1_score(y, model.predict(X))\n",
    "    \n",
    "    # обучать модель можно также с помощью кросс-валидации\n",
    "    # применим  cross validation с тем же количеством фолдов\n",
    "    # score = cross_val_score(model, X, y, cv=cv, scoring=\"f1\", n_jobs=-1).mean()\n",
    "\n",
    "    # метрику необходимо минимизировать, поэтому ставим знак минус\n",
    "    return -score\n",
    "# начинаем подбор гиперпараметров\n",
    "\n",
    "trials = Trials() # используется для логирования результатов\n",
    "\n",
    "best = fmin(hyperopt_lr, # наша функция \n",
    "        space=space, # пространство гиперпараметров\n",
    "        algo=tpe.suggest, # алгоритм оптимизации, установлен по умолчанию, задавать необязательно\n",
    "        max_evals=50, # максимальное количество итераций\n",
    "        trials=trials, # логирование результатов\n",
    "        rstate=np.random.default_rng(random_state)\n",
    "        )\n",
    "\n",
    "# рассчитаем точность для тестовой выборки по найденный гиперпараметрам - подставим найденные параметры в модель\n",
    "model = linear_model.LogisticRegression(\n",
    "    random_state=random_state,\n",
    "    max_iter=20,                       \n",
    "    penalty = pen[best['penalty']],     # подставляем найденные параметры в модель\n",
    "    solver = sol[best['solver']],       # подставляем найденные параметры в модель\n",
    "    C = float(best['C'])                # подставляем найденные параметры в модель\n",
    ")\n",
    "# обучаем модель...\n",
    "model.fit(X_train, y_train)\n",
    "\n",
    "# найдем предсказание...\n",
    "y_test_pred = model.predict(X_test)\n",
    "\n",
    "end = time.time()\n",
    "\n",
    "# рассчитаем точность для тестовой выборки\n",
    "print('Метрика F1 для Логистической регресии и HYPEROPT: {:.4f}'.format(metrics.f1_score(y_test, y_test_pred)))"
   ]
  },
  {
   "cell_type": "code",
   "execution_count": 44,
   "metadata": {},
   "outputs": [],
   "source": [
    "# запишем результат в словарь:\n",
    "res_dict['LogRegr_HyperOpt'] = [round(metrics.f1_score(y_test, y_test_pred),4),dura(start,end)]"
   ]
  },
  {
   "cell_type": "markdown",
   "metadata": {},
   "source": [
    "### LogRegr + OPTUNA"
   ]
  },
  {
   "cell_type": "code",
   "execution_count": 46,
   "metadata": {},
   "outputs": [
    {
     "name": "stdout",
     "output_type": "stream",
     "text": [
      "Версия Optuna: 3.6.0\n"
     ]
    }
   ],
   "source": [
    "import optuna\n",
    "\n",
    "# print(\"Версия Optuna: {}\".format(optuna.__version__))"
   ]
  },
  {
   "cell_type": "code",
   "execution_count": 55,
   "metadata": {},
   "outputs": [],
   "source": [
    "start = time.time()\n",
    "\n",
    "def optuna_lr(trial):\n",
    "  # задаем пространства поиска гиперпараметров\n",
    "  penalty = trial.suggest_categorical('penalty', pen)\n",
    "  solver = trial.suggest_categorical('solver', sol)\n",
    "  C = trial.suggest_float('C', 0.1, 1)\n",
    "\n",
    "  # создаем модель\n",
    "  model = linear_model.LogisticRegression(\n",
    "    random_state=random_state,\n",
    "    penalty=penalty,\n",
    "    solver=solver,\n",
    "    C=C\n",
    "    )\n",
    "  # обучаем модель\n",
    "  model.fit(X_train, y_train)\n",
    "  score = metrics.f1_score(y_test, model.predict(X_test))\n",
    "  return score\n",
    "# cоздаем объект исследования\n",
    "# можем напрямую указать, что нам необходимо максимизировать метрику direction=\"maximize\"\n",
    "study = optuna.create_study(study_name=\"LogisticRegression\", direction=\"maximize\")\n",
    "# ищем лучшую комбинацию гиперпараметров n_trials раз\n",
    "study.optimize(optuna_lr, n_trials=25)\n",
    "optuna.logging.set_verbosity(optuna.logging.INFO)\n",
    "\n",
    "end = time.time()"
   ]
  },
  {
   "cell_type": "code",
   "execution_count": 48,
   "metadata": {},
   "outputs": [
    {
     "name": "stdout",
     "output_type": "stream",
     "text": [
      "Метрика F1 для Логистической регресии и OPTUNA: 0.7796\n"
     ]
    }
   ],
   "source": [
    "# выводим результаты на обучающей выборке\n",
    "# print(\"Наилучшие значения гиперпараметров {}\".format(study.best_params))\n",
    "print(\"Метрика F1 для Логистической регресии и OPTUNA: {:.4f}\".format(study.best_value))"
   ]
  },
  {
   "cell_type": "code",
   "execution_count": 52,
   "metadata": {},
   "outputs": [],
   "source": [
    "res_dict['LogRegr_Optuna'] = [round(study.best_value,4), dura(start,end)]"
   ]
  },
  {
   "cell_type": "markdown",
   "metadata": {},
   "source": [
    "## Подбираем гиперпараметры для \"Случайного леса\": "
   ]
  },
  {
   "cell_type": "markdown",
   "metadata": {},
   "source": [
    "### RandomForestClassifier + GridSearchCV"
   ]
  },
  {
   "cell_type": "code",
   "execution_count": 56,
   "metadata": {},
   "outputs": [
    {
     "name": "stdout",
     "output_type": "stream",
     "text": [
      "Fitting 5 folds for each of 27 candidates, totalling 135 fits\n",
      "Метрика F1 для Случайного леса и GridSearch: 0.8000\n"
     ]
    }
   ],
   "source": [
    "start = time.time()\n",
    "# Определяем сетку гиперпараметров:\n",
    "param_grid = [\n",
    "{'max_depth': [5, 8, 10],\n",
    "'min_samples_leaf': [7, 8, 9],  #первый словарь \n",
    "'n_estimators': [100, 200, 300]} \n",
    "]\n",
    "\n",
    "# создаем объект класса GridSearchCV...\n",
    "grid_search = GridSearchCV(\n",
    "    estimator = rf,\n",
    "    param_grid=param_grid, \n",
    "    cv=5, \n",
    "    n_jobs = -1,\n",
    "    verbose=1,\n",
    ")\n",
    "\n",
    "grid_search.fit(X_train, y_train)\n",
    "y_test_pred = grid_search.predict(X_test)\n",
    "\n",
    "end = time.time()\n",
    "\n",
    "print('Метрика F1 для Случайного леса и GridSearch: {:.4f}'.format(metrics.f1_score(y_test, y_test_pred)))"
   ]
  },
  {
   "cell_type": "code",
   "execution_count": 58,
   "metadata": {},
   "outputs": [],
   "source": [
    "res_dict['RandForest_GridSearch'] = [round(metrics.f1_score(y_test, y_test_pred),4),dura(start,end)]"
   ]
  },
  {
   "cell_type": "markdown",
   "metadata": {},
   "source": [
    "### RandomForestClassifier + RANDOMIZEDSEARCHCV "
   ]
  },
  {
   "cell_type": "code",
   "execution_count": 60,
   "metadata": {},
   "outputs": [
    {
     "name": "stdout",
     "output_type": "stream",
     "text": [
      "Метрика F1 для Случайного леса и RANDOMIZEDSEARCHCV: 0.7463\n"
     ]
    }
   ],
   "source": [
    "start = time.time()\n",
    "\n",
    "param_set = {'min_samples_leaf': list(np.linspace(100, 300, 1, dtype=int)),\n",
    "              'max_depth': list(np.linspace(2, 30, 1, dtype=int)),\n",
    "              'min_samples_leaf':list(np.linspace(2, 10, 1, dtype=int))\n",
    "              }\n",
    "            \n",
    "            \n",
    "random_search = RandomizedSearchCV(\n",
    "    estimator = rf, # - наша модель RandomForestClassifier\n",
    "    param_distributions=param_set, \n",
    "    cv=5, \n",
    "    n_iter = 20,\n",
    "    n_jobs = -1\n",
    ")\n",
    "\n",
    "random_search.fit(X_train, y_train) \n",
    "y_test_pred = random_search.predict(X_test)\n",
    "\n",
    "end = time.time()\n",
    "\n",
    "print('Метрика F1 для Случайного леса и RANDOMIZEDSEARCHCV: {:.4f}'.format(metrics.f1_score(y_test, y_test_pred)))"
   ]
  },
  {
   "cell_type": "code",
   "execution_count": 61,
   "metadata": {},
   "outputs": [],
   "source": [
    "res_dict['RandForest_RandSearch'] = [round(metrics.f1_score(y_test, y_test_pred),4),dura(start,end)]"
   ]
  },
  {
   "cell_type": "markdown",
   "metadata": {},
   "source": [
    "### RandomForestClassifier + HYPEROPT"
   ]
  },
  {
   "cell_type": "code",
   "execution_count": 63,
   "metadata": {},
   "outputs": [
    {
     "name": "stdout",
     "output_type": "stream",
     "text": [
      "100%|██████████| 50/50 [02:20<00:00,  2.82s/trial, best loss: -0.9920731707317074]\n",
      "Наилучшие значения гиперпараметров {'max_depth': 22.0, 'min_samples_leaf': 2.0, 'n_estimators': 216.0}\n",
      "Метрика F1 для Случайного леса и HYPEROPT: 0.8221\n"
     ]
    }
   ],
   "source": [
    "start = time.time()\n",
    "\n",
    "space={'n_estimators': hp.quniform('n_estimators', 100, 300, 1),\n",
    "       'max_depth' : hp.quniform('max_depth', 2, 30, 1),\n",
    "       'min_samples_leaf': hp.quniform('min_samples_leaf', 2, 10, 1)\n",
    "      }\n",
    "random_state = 42\n",
    "def hyperopt_rf(params, cv=5, X=X_train, y=y_train, random_state=random_state):\n",
    "    # функция получает комбинацию гиперпараметров в \"params\"\n",
    "    params = {'n_estimators': int(params['n_estimators']), \n",
    "              'max_depth': int(params['max_depth']), \n",
    "             'min_samples_leaf': int(params['min_samples_leaf'])\n",
    "              }\n",
    "  \n",
    "    # используем эту комбинацию для построения модели\n",
    "    model = ensemble.RandomForestClassifier(**params, random_state=random_state)\n",
    "\n",
    "    # обучаем модель\n",
    "    model.fit(X, y)\n",
    "    score = metrics.f1_score(y, model.predict(X))\n",
    "    \n",
    "    # метрику необходимо минимизировать, поэтому ставим знак минус\n",
    "    return -score\n",
    "\n",
    "# начинаем подбор гиперпараметров\n",
    "\n",
    "trials = Trials() # используется для логирования результатов\n",
    "\n",
    "best=fmin(hyperopt_rf, # наша функция \n",
    "          space=space, # пространство гиперпараметров\n",
    "          algo=tpe.suggest, # алгоритм оптимизации, установлен по умолчанию, задавать необязательно\n",
    "          max_evals=50, # максимальное количество итераций\n",
    "          trials=trials, # логирование результатов\n",
    "          rstate=np.random.default_rng(random_state)# фиксируем для повторяемости результата\n",
    "         )\n",
    "print(\"Наилучшие значения гиперпараметров {}\".format(best))\n",
    "\n",
    "# Рассчитаем точность для тестовой выборки по найденным гиперпараметрам - подставим найденные параметры в модель\n",
    "model = ensemble.RandomForestClassifier(\n",
    "    random_state=random_state, \n",
    "    n_estimators=int(best['n_estimators']),\n",
    "    max_depth=int(best['max_depth']),\n",
    "    min_samples_leaf=int(best['min_samples_leaf'])\n",
    ")\n",
    "# обучаем модель...\n",
    "model.fit(X_train, y_train)\n",
    "\n",
    "# найдем предсказание...\n",
    "y_test_pred = model.predict(X_test)\n",
    "\n",
    "end = time.time()\n",
    "\n",
    "# рассчитаем точность для тестовой выборки\n",
    "print('Метрика F1 для Случайного леса и HYPEROPT: {:.4f}'.format(metrics.f1_score(y_test, y_test_pred)))"
   ]
  },
  {
   "cell_type": "code",
   "execution_count": 64,
   "metadata": {},
   "outputs": [],
   "source": [
    "res_dict['RandForest_HyperOpt'] = [round(metrics.f1_score(y_test, y_test_pred),4),dura(start,end)]"
   ]
  },
  {
   "cell_type": "markdown",
   "metadata": {},
   "source": [
    "### RandomForestClassifier + OPTUNA"
   ]
  },
  {
   "cell_type": "code",
   "execution_count": 70,
   "metadata": {},
   "outputs": [
    {
     "name": "stderr",
     "output_type": "stream",
     "text": [
      "[I 2024-03-21 12:22:11,260] A new study created in memory with name: RandomForestClassifier\n",
      "[I 2024-03-21 12:22:13,739] Trial 0 finished with value: 0.8925219497426582 and parameters: {'n_estimators': 230, 'max_depth': 11, 'min_samples_leaf': 9}. Best is trial 0 with value: 0.8925219497426582.\n",
      "[I 2024-03-21 12:22:18,806] Trial 1 finished with value: 0.9920731707317074 and parameters: {'n_estimators': 300, 'max_depth': 24, 'min_samples_leaf': 2}. Best is trial 1 with value: 0.9920731707317074.\n",
      "[I 2024-03-21 12:22:22,079] Trial 2 finished with value: 0.9392466585662211 and parameters: {'n_estimators': 242, 'max_depth': 16, 'min_samples_leaf': 5}. Best is trial 1 with value: 0.9920731707317074.\n",
      "[I 2024-03-21 12:22:22,667] Trial 3 finished with value: 0.7393705135284373 and parameters: {'n_estimators': 192, 'max_depth': 2, 'min_samples_leaf': 2}. Best is trial 1 with value: 0.9920731707317074.\n",
      "[I 2024-03-21 12:22:24,060] Trial 4 finished with value: 0.8090024330900243 and parameters: {'n_estimators': 231, 'max_depth': 5, 'min_samples_leaf': 8}. Best is trial 1 with value: 0.9920731707317074.\n",
      "[I 2024-03-21 12:22:26,695] Trial 5 finished with value: 0.9914582062233068 and parameters: {'n_estimators': 150, 'max_depth': 25, 'min_samples_leaf': 2}. Best is trial 1 with value: 0.9920731707317074.\n",
      "[I 2024-03-21 12:22:27,546] Trial 6 finished with value: 0.740453790813503 and parameters: {'n_estimators': 286, 'max_depth': 2, 'min_samples_leaf': 3}. Best is trial 1 with value: 0.9920731707317074.\n",
      "[I 2024-03-21 12:22:31,012] Trial 7 finished with value: 0.9207501512401695 and parameters: {'n_estimators': 275, 'max_depth': 24, 'min_samples_leaf': 7}. Best is trial 1 with value: 0.9920731707317074.\n",
      "[I 2024-03-21 12:22:34,775] Trial 8 finished with value: 0.9793187347931874 and parameters: {'n_estimators': 240, 'max_depth': 21, 'min_samples_leaf': 3}. Best is trial 1 with value: 0.9920731707317074.\n",
      "[I 2024-03-21 12:22:37,041] Trial 9 finished with value: 0.867535616853592 and parameters: {'n_estimators': 250, 'max_depth': 8, 'min_samples_leaf': 8}. Best is trial 1 with value: 0.9920731707317074.\n",
      "[I 2024-03-21 12:22:38,650] Trial 10 finished with value: 0.941818181818182 and parameters: {'n_estimators': 113, 'max_depth': 30, 'min_samples_leaf': 5}. Best is trial 1 with value: 0.9920731707317074.\n",
      "[I 2024-03-21 12:22:41,302] Trial 11 finished with value: 0.9917607567897467 and parameters: {'n_estimators': 154, 'max_depth': 27, 'min_samples_leaf': 2}. Best is trial 1 with value: 0.9920731707317074.\n",
      "[I 2024-03-21 12:22:44,037] Trial 12 finished with value: 0.9624470018170805 and parameters: {'n_estimators': 185, 'max_depth': 30, 'min_samples_leaf': 4}. Best is trial 1 with value: 0.9920731707317074.\n",
      "[I 2024-03-21 12:22:46,627] Trial 13 finished with value: 0.9899359560841718 and parameters: {'n_estimators': 152, 'max_depth': 19, 'min_samples_leaf': 2}. Best is trial 1 with value: 0.9920731707317074.\n",
      "[I 2024-03-21 12:22:48,250] Trial 14 finished with value: 0.9638846737481032 and parameters: {'n_estimators': 106, 'max_depth': 26, 'min_samples_leaf': 4}. Best is trial 1 with value: 0.9920731707317074.\n",
      "[I 2024-03-21 12:22:50,082] Trial 15 finished with value: 0.8957203134418324 and parameters: {'n_estimators': 157, 'max_depth': 19, 'min_samples_leaf': 10}. Best is trial 1 with value: 0.9920731707317074.\n",
      "[I 2024-03-21 12:22:51,802] Trial 16 finished with value: 0.9259147263380709 and parameters: {'n_estimators': 130, 'max_depth': 15, 'min_samples_leaf': 6}. Best is trial 1 with value: 0.9920731707317074.\n",
      "[I 2024-03-21 12:22:55,126] Trial 17 finished with value: 0.9783997566169761 and parameters: {'n_estimators': 211, 'max_depth': 27, 'min_samples_leaf': 3}. Best is trial 1 with value: 0.9920731707317074.\n",
      "[I 2024-03-21 12:22:57,761] Trial 18 finished with value: 0.9626707132018208 and parameters: {'n_estimators': 178, 'max_depth': 23, 'min_samples_leaf': 4}. Best is trial 1 with value: 0.9920731707317074.\n",
      "[I 2024-03-21 12:23:01,680] Trial 19 finished with value: 0.9307110438729198 and parameters: {'n_estimators': 298, 'max_depth': 28, 'min_samples_leaf': 6}. Best is trial 1 with value: 0.9920731707317074.\n",
      "[I 2024-03-21 12:23:06,198] Trial 20 finished with value: 0.9920731707317074 and parameters: {'n_estimators': 267, 'max_depth': 22, 'min_samples_leaf': 2}. Best is trial 1 with value: 0.9920731707317074.\n",
      "[I 2024-03-21 12:23:10,769] Trial 21 finished with value: 0.9920731707317074 and parameters: {'n_estimators': 265, 'max_depth': 22, 'min_samples_leaf': 2}. Best is trial 1 with value: 0.9920731707317074.\n",
      "[I 2024-03-21 12:23:14,986] Trial 22 finished with value: 0.9799025578562728 and parameters: {'n_estimators': 269, 'max_depth': 22, 'min_samples_leaf': 3}. Best is trial 1 with value: 0.9920731707317074.\n",
      "[I 2024-03-21 12:23:19,921] Trial 23 finished with value: 0.9878271454656117 and parameters: {'n_estimators': 300, 'max_depth': 17, 'min_samples_leaf': 2}. Best is trial 1 with value: 0.9920731707317074.\n",
      "[I 2024-03-21 12:23:24,050] Trial 24 finished with value: 0.9781021897810219 and parameters: {'n_estimators': 263, 'max_depth': 20, 'min_samples_leaf': 3}. Best is trial 1 with value: 0.9920731707317074.\n"
     ]
    },
    {
     "name": "stdout",
     "output_type": "stream",
     "text": [
      "Наилучшие значения гиперпараметров {'n_estimators': 300, 'max_depth': 24, 'min_samples_leaf': 2}\n",
      "Метрика F1 для Случайного леса и OPTUNA: 0.9921\n"
     ]
    }
   ],
   "source": [
    "start = time.time()\n",
    "\n",
    "def optuna_rf(trial):\n",
    "    # задаем пространства поиска гиперпараметров\n",
    "    n_estimators = trial.suggest_int('n_estimators', 100, 300, 1)\n",
    "    max_depth = trial.suggest_int('max_depth', 2, 30, 1)\n",
    "    min_samples_leaf = trial.suggest_int('min_samples_leaf', 2, 10, 1)\n",
    "\n",
    "  # создаем модель\n",
    "    # создаем модель\n",
    "    model = ensemble.RandomForestClassifier(n_estimators=n_estimators,\n",
    "                                          max_depth=max_depth,\n",
    "                                          min_samples_leaf=min_samples_leaf,\n",
    "                                          random_state=random_state)\n",
    "  # обучаем модель\n",
    "    model.fit(X_train, y_train)\n",
    "    score = metrics.f1_score(y_train, model.predict(X_train))\n",
    "\n",
    "    return score\n",
    "\n",
    "# обучаем модель\n",
    "model.fit(X_train, y_train)\n",
    "\n",
    "# cоздаем объект исследования\n",
    "# указываем напрямую, что нам необходимо максимизировать метрику direction=\"maximize\"\n",
    "study = optuna.create_study(study_name=\"RandomForestClassifier\", direction=\"maximize\")\n",
    "# ищем лучшую комбинацию гиперпараметров n_trials раз\n",
    "study.optimize(optuna_rf, n_trials=25)\n",
    "optuna.logging.set_verbosity(optuna.logging.INFO)\n",
    "\n",
    "end = time.time()\n",
    "\n",
    "# выводим результаты на обучающей выборке\n",
    "# print(\"Наилучшие значения гиперпараметров {}\".format(study.best_params))\n",
    "print(\"Метрика F1 для Случайного леса и OPTUNA: {:.4f}\".format(study.best_value))"
   ]
  },
  {
   "cell_type": "code",
   "execution_count": 71,
   "metadata": {},
   "outputs": [],
   "source": [
    "# запишем данные в наш словарь...\n",
    "res_dict['RandForest_Optuna'] = [round(study.best_value,4),dura(start,end)]"
   ]
  },
  {
   "cell_type": "code",
   "execution_count": 105,
   "metadata": {},
   "outputs": [
    {
     "data": {
      "text/html": [
       "<div>\n",
       "<style scoped>\n",
       "    .dataframe tbody tr th:only-of-type {\n",
       "        vertical-align: middle;\n",
       "    }\n",
       "\n",
       "    .dataframe tbody tr th {\n",
       "        vertical-align: top;\n",
       "    }\n",
       "\n",
       "    .dataframe thead th {\n",
       "        text-align: right;\n",
       "    }\n",
       "</style>\n",
       "<table border=\"1\" class=\"dataframe\">\n",
       "  <thead>\n",
       "    <tr style=\"text-align: right;\">\n",
       "      <th></th>\n",
       "      <th>F1</th>\n",
       "      <th>Duration</th>\n",
       "    </tr>\n",
       "  </thead>\n",
       "  <tbody>\n",
       "    <tr>\n",
       "      <th>LogRegr_BaseLine</th>\n",
       "      <td>0.7663</td>\n",
       "      <td>0.30400</td>\n",
       "    </tr>\n",
       "    <tr>\n",
       "      <th>RandForest_RandSearch</th>\n",
       "      <td>0.7463</td>\n",
       "      <td>1.00046</td>\n",
       "    </tr>\n",
       "    <tr>\n",
       "      <th>RandForest_BaseLine</th>\n",
       "      <td>0.8145</td>\n",
       "      <td>1.88155</td>\n",
       "    </tr>\n",
       "    <tr>\n",
       "      <th>LogRegr_GridSearch</th>\n",
       "      <td>0.7771</td>\n",
       "      <td>21.99516</td>\n",
       "    </tr>\n",
       "    <tr>\n",
       "      <th>LogRegr_RandSearch</th>\n",
       "      <td>0.7752</td>\n",
       "      <td>29.24227</td>\n",
       "    </tr>\n",
       "    <tr>\n",
       "      <th>RandForest_GridSearch</th>\n",
       "      <td>0.8000</td>\n",
       "      <td>32.37068</td>\n",
       "    </tr>\n",
       "    <tr>\n",
       "      <th>LogRegr_HyperOpt</th>\n",
       "      <td>0.7734</td>\n",
       "      <td>62.07399</td>\n",
       "    </tr>\n",
       "    <tr>\n",
       "      <th>RandForest_Optuna</th>\n",
       "      <td>0.9921</td>\n",
       "      <td>76.34976</td>\n",
       "    </tr>\n",
       "    <tr>\n",
       "      <th>LogRegr_Optuna</th>\n",
       "      <td>0.7796</td>\n",
       "      <td>101.12864</td>\n",
       "    </tr>\n",
       "    <tr>\n",
       "      <th>RandForest_HyperOpt</th>\n",
       "      <td>0.8221</td>\n",
       "      <td>144.42501</td>\n",
       "    </tr>\n",
       "  </tbody>\n",
       "</table>\n",
       "</div>"
      ],
      "text/plain": [
       "                           F1   Duration\n",
       "LogRegr_BaseLine       0.7663    0.30400\n",
       "RandForest_RandSearch  0.7463    1.00046\n",
       "RandForest_BaseLine    0.8145    1.88155\n",
       "LogRegr_GridSearch     0.7771   21.99516\n",
       "LogRegr_RandSearch     0.7752   29.24227\n",
       "RandForest_GridSearch  0.8000   32.37068\n",
       "LogRegr_HyperOpt       0.7734   62.07399\n",
       "RandForest_Optuna      0.9921   76.34976\n",
       "LogRegr_Optuna         0.7796  101.12864\n",
       "RandForest_HyperOpt    0.8221  144.42501"
      ]
     },
     "execution_count": 105,
     "metadata": {},
     "output_type": "execute_result"
    }
   ],
   "source": [
    "# преобразуем словарь в таблицу\n",
    "df = pd.DataFrame.from_dict(res_dict,orient='index')\n",
    "df.columns=['F1','Duration']\n",
    "df = df.sort_values('Duration')"
   ]
  },
  {
   "cell_type": "code",
   "execution_count": 120,
   "metadata": {},
   "outputs": [
    {
     "data": {
      "text/plain": [
       "<Axes: xlabel='F1', ylabel='Duration'>"
      ]
     },
     "execution_count": 120,
     "metadata": {},
     "output_type": "execute_result"
    },
    {
     "data": {
      "image/png": "[encoded data removed]",
      "text/plain": [
       "<Figure size 640x480 with 1 Axes>"
      ]
     },
     "metadata": {},
     "output_type": "display_data"
    }
   ],
   "source": [
    "# Визуализируем соотношение 2х параметров - метрики F1 и Duration... \n",
    "a = df['F1']\n",
    "b = df['Duration']\n",
    "sns.scatterplot(x=a,y=b,hue=df.index)"
   ]
  },
  {
   "cell_type": "code",
   "execution_count": 121,
   "metadata": {},
   "outputs": [
    {
     "data": {
      "image/png": "[encoded data removed]",
      "text/plain": [
       "<Figure size 1000x400 with 1 Axes>"
      ]
     },
     "metadata": {},
     "output_type": "display_data"
    }
   ],
   "source": [
    "# Посмотрим на кривую обучения Optun-ы...\n",
    "plot_learning_curve(model, X_train, y_train, cv=skf, scoring=\"f1\", ax=None, title=\"Optuna Learning Curve\")"
   ]
  },
  {
   "cell_type": "markdown",
   "metadata": {},
   "source": [
    "# **ВЫВОД:** Лучший результат показала Optuma на модели RandomForest"
   ]
  }
 ],
 "metadata": {
  "kernelspec": {
   "display_name": "Python 3",
   "language": "python",
   "name": "python3"
  },
  "language_info": {
   "codemirror_mode": {
    "name": "ipython",
    "version": 3
   },
   "file_extension": ".py",
   "mimetype": "text/x-python",
   "name": "python",
   "nbconvert_exporter": "python",
   "pygments_lexer": "ipython3",
   "version": "3.9.10"
  }
 },
 "nbformat": 4,
 "nbformat_minor": 2
}
